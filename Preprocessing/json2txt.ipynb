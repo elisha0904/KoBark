{
 "cells": [
  {
   "attachments": {},
   "cell_type": "markdown",
   "metadata": {},
   "source": [
    "### json file 내의 텍스트만을 추출해서 txt로 변환\n",
    "- '구연체' 기준 → 독백체와 대화체에 경로만 바꾸어서 같은 코드 적용"
   ]
  },
  {
   "cell_type": "code",
   "execution_count": null,
   "metadata": {},
   "outputs": [],
   "source": [
    "import os\n",
    "import json\n",
    "\n",
    "json_files_directory = './data/감성 및 발화 스타일 동시 고려 음성합성 데이터/구연체_json'\n",
    "txt_files_directory = './data/감성 및 발화 스타일 동시 고려 음성합성 데이터/구연체_txt'\n",
    "\n",
    "# 지정된 디렉토리에 txt 디렉토리가 없다면 생성\n",
    "if not os.path.exists(txt_files_directory):\n",
    "    os.makedirs(txt_files_directory)\n",
    "\n",
    "json_files = [file for file in os.listdir(json_files_directory) if file.endswith('.json')]\n",
    "\n",
    "def process_json_file(file_name):\n",
    "    file_path = os.path.join(json_files_directory, file_name)\n",
    "\n",
    "    with open(file_path, 'r') as file:\n",
    "        data = json.load(file)\n",
    "        \n",
    "    script_data = data[0]['script'] if 'script' in data[0] else None\n",
    "    if script_data and 'normalized' in script_data:\n",
    "        normalized_text = script_data['normalized']\n",
    "\n",
    "        normalized_text_combined = \"\\n\".join(normalized_text)\n",
    "\n",
    "        txt_file_name = file_name.replace('.json', '.txt')\n",
    "        txt_file_path = os.path.join(txt_files_directory, txt_file_name)\n",
    "\n",
    "        with open(txt_file_path, 'w') as txt_file:\n",
    "            txt_file.write(normalized_text_combined)\n",
    "        print(f\"TXT 파일 생성: {txt_file_path}\")\n",
    "        return txt_file_path\n",
    "    else:\n",
    "        print(f\"'normalized' 키가 없는 JSON 파일: {file_path}\")\n",
    "        return None"
   ]
  },
  {
   "cell_type": "code",
   "execution_count": null,
   "metadata": {},
   "outputs": [],
   "source": [
    "\n",
    "txt_files_paths = [process_json_file(file) for file in json_files]\n",
    "txt_files_paths = [path for path in txt_files_paths if path]\n",
    "\n",
    "txt_files_paths"
   ]
  }
 ],
 "metadata": {
  "kernelspec": {
   "display_name": "Python 3",
   "language": "python",
   "name": "python3"
  },
  "language_info": {
   "codemirror_mode": {
    "name": "ipython",
    "version": 3
   },
   "file_extension": ".py",
   "mimetype": "text/x-python",
   "name": "python",
   "nbconvert_exporter": "python",
   "pygments_lexer": "ipython3",
   "version": "3.8.10"
  },
  "orig_nbformat": 4,
  "vscode": {
   "interpreter": {
    "hash": "916dbcbb3f70747c44a77c7bcd40155683ae19c65e1c03b4aa3499c5328201f1"
   }
  }
 },
 "nbformat": 4,
 "nbformat_minor": 2
}
