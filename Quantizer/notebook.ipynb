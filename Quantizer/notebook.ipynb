{
 "cells": [
  {
   "cell_type": "markdown",
   "metadata": {},
   "source": [
    "# Bark text-to-speech voice cloning.\n",
    "Clone voices to create speaker history prompt files (.npz) for [bark text-to-speech](https://github.com/suno-ai/bark)."
   ]
  },
  {
   "cell_type": "markdown",
   "metadata": {},
   "source": [
    "## Install packages"
   ]
  },
  {
   "cell_type": "code",
   "execution_count": 1,
   "metadata": {
    "jupyter": {
     "outputs_hidden": true
    },
    "scrolled": true,
    "tags": []
   },
   "outputs": [
    {
     "name": "stdout",
     "output_type": "stream",
     "text": [
      "Ignoring soundfile: markers 'platform_system == \"Windows\"' don't match your environment\n",
      "Requirement already satisfied: audiolm-pytorch==1.1.4 in /root/.local/lib/python3.10/site-packages (from -r requirements.txt (line 1)) (1.1.4)\n",
      "Requirement already satisfied: fairseq in /root/.local/lib/python3.10/site-packages (from -r requirements.txt (line 2)) (0.12.2)\n",
      "Requirement already satisfied: huggingface-hub in /root/.local/lib/python3.10/site-packages (from -r requirements.txt (line 3)) (0.19.4)\n",
      "Requirement already satisfied: sentencepiece in /opt/conda/lib/python3.10/site-packages (from -r requirements.txt (line 4)) (0.1.98)\n",
      "Requirement already satisfied: transformers in /root/.local/lib/python3.10/site-packages (from -r requirements.txt (line 5)) (4.36.0.dev0)\n",
      "Requirement already satisfied: encodec in /root/.local/lib/python3.10/site-packages (from -r requirements.txt (line 6)) (0.1.1)\n",
      "Collecting sox\n",
      "  Downloading sox-1.4.1-py2.py3-none-any.whl (39 kB)\n",
      "Requirement already satisfied: einops>=0.6.1 in /root/.local/lib/python3.10/site-packages (from audiolm-pytorch==1.1.4->-r requirements.txt (line 1)) (0.7.0)\n",
      "Requirement already satisfied: ema-pytorch>=0.2.2 in /root/.local/lib/python3.10/site-packages (from audiolm-pytorch==1.1.4->-r requirements.txt (line 1)) (0.3.1)\n",
      "Requirement already satisfied: tqdm in /opt/conda/lib/python3.10/site-packages (from audiolm-pytorch==1.1.4->-r requirements.txt (line 1)) (4.64.1)\n",
      "Requirement already satisfied: scikit-learn in /opt/conda/lib/python3.10/site-packages (from audiolm-pytorch==1.1.4->-r requirements.txt (line 1)) (1.2.2)\n",
      "Requirement already satisfied: accelerate in /root/.local/lib/python3.10/site-packages (from audiolm-pytorch==1.1.4->-r requirements.txt (line 1)) (0.20.3)\n",
      "Requirement already satisfied: lion-pytorch in /root/.local/lib/python3.10/site-packages (from audiolm-pytorch==1.1.4->-r requirements.txt (line 1)) (0.1.2)\n",
      "Requirement already satisfied: beartype in /root/.local/lib/python3.10/site-packages (from audiolm-pytorch==1.1.4->-r requirements.txt (line 1)) (0.16.4)\n",
      "Requirement already satisfied: joblib in /opt/conda/lib/python3.10/site-packages (from audiolm-pytorch==1.1.4->-r requirements.txt (line 1)) (1.2.0)\n",
      "Requirement already satisfied: vector-quantize-pytorch>=1.5.14 in /root/.local/lib/python3.10/site-packages (from audiolm-pytorch==1.1.4->-r requirements.txt (line 1)) (1.11.7)\n",
      "Requirement already satisfied: torchaudio in /root/.local/lib/python3.10/site-packages (from audiolm-pytorch==1.1.4->-r requirements.txt (line 1)) (0.12.1+cu113)\n",
      "Requirement already satisfied: torch>=1.12 in /root/.local/lib/python3.10/site-packages (from audiolm-pytorch==1.1.4->-r requirements.txt (line 1)) (1.12.1+cu113)\n",
      "Requirement already satisfied: local-attention>=1.8.4 in /root/.local/lib/python3.10/site-packages (from audiolm-pytorch==1.1.4->-r requirements.txt (line 1)) (1.9.0)\n",
      "Requirement already satisfied: regex in /opt/conda/lib/python3.10/site-packages (from fairseq->-r requirements.txt (line 2)) (2023.3.23)\n",
      "Requirement already satisfied: hydra-core<1.1,>=1.0.7 in /root/.local/lib/python3.10/site-packages (from fairseq->-r requirements.txt (line 2)) (1.0.7)\n",
      "Requirement already satisfied: omegaconf<2.1 in /root/.local/lib/python3.10/site-packages (from fairseq->-r requirements.txt (line 2)) (2.0.6)\n",
      "Requirement already satisfied: cffi in /opt/conda/lib/python3.10/site-packages (from fairseq->-r requirements.txt (line 2)) (1.15.1)\n",
      "Requirement already satisfied: sacrebleu>=1.4.12 in /root/.local/lib/python3.10/site-packages (from fairseq->-r requirements.txt (line 2)) (2.3.2)\n",
      "Requirement already satisfied: bitarray in /root/.local/lib/python3.10/site-packages (from fairseq->-r requirements.txt (line 2)) (2.8.3)\n",
      "Requirement already satisfied: numpy in /root/.local/lib/python3.10/site-packages (from fairseq->-r requirements.txt (line 2)) (1.22.0)\n",
      "Requirement already satisfied: cython in /opt/conda/lib/python3.10/site-packages (from fairseq->-r requirements.txt (line 2)) (0.29.34)\n",
      "Requirement already satisfied: packaging>=20.9 in /opt/conda/lib/python3.10/site-packages (from huggingface-hub->-r requirements.txt (line 3)) (21.3)\n",
      "Requirement already satisfied: requests in /opt/conda/lib/python3.10/site-packages (from huggingface-hub->-r requirements.txt (line 3)) (2.28.2)\n",
      "Requirement already satisfied: filelock in /opt/conda/lib/python3.10/site-packages (from huggingface-hub->-r requirements.txt (line 3)) (3.11.0)\n",
      "Requirement already satisfied: typing-extensions>=3.7.4.3 in /opt/conda/lib/python3.10/site-packages (from huggingface-hub->-r requirements.txt (line 3)) (4.5.0)\n",
      "Requirement already satisfied: fsspec>=2023.5.0 in /root/.local/lib/python3.10/site-packages (from huggingface-hub->-r requirements.txt (line 3)) (2023.10.0)\n",
      "Requirement already satisfied: pyyaml>=5.1 in /opt/conda/lib/python3.10/site-packages (from huggingface-hub->-r requirements.txt (line 3)) (6.0)\n",
      "Requirement already satisfied: tokenizers<0.19,>=0.14 in /root/.local/lib/python3.10/site-packages (from transformers->-r requirements.txt (line 5)) (0.15.0)\n",
      "Requirement already satisfied: safetensors>=0.3.1 in /root/.local/lib/python3.10/site-packages (from transformers->-r requirements.txt (line 5)) (0.4.0)\n",
      "Requirement already satisfied: antlr4-python3-runtime==4.8 in /root/.local/lib/python3.10/site-packages (from hydra-core<1.1,>=1.0.7->fairseq->-r requirements.txt (line 2)) (4.8)\n",
      "Requirement already satisfied: pyparsing!=3.0.5,>=2.0.2 in /opt/conda/lib/python3.10/site-packages (from packaging>=20.9->huggingface-hub->-r requirements.txt (line 3)) (3.0.9)\n",
      "Requirement already satisfied: colorama in /opt/conda/lib/python3.10/site-packages (from sacrebleu>=1.4.12->fairseq->-r requirements.txt (line 2)) (0.4.6)\n",
      "Requirement already satisfied: lxml in /opt/conda/lib/python3.10/site-packages (from sacrebleu>=1.4.12->fairseq->-r requirements.txt (line 2)) (4.9.2)\n",
      "Requirement already satisfied: portalocker in /root/.local/lib/python3.10/site-packages (from sacrebleu>=1.4.12->fairseq->-r requirements.txt (line 2)) (2.8.2)\n",
      "Requirement already satisfied: tabulate>=0.8.9 in /opt/conda/lib/python3.10/site-packages (from sacrebleu>=1.4.12->fairseq->-r requirements.txt (line 2)) (0.9.0)\n",
      "Requirement already satisfied: psutil in /opt/conda/lib/python3.10/site-packages (from accelerate->audiolm-pytorch==1.1.4->-r requirements.txt (line 1)) (5.9.4)\n",
      "Requirement already satisfied: pycparser in /opt/conda/lib/python3.10/site-packages (from cffi->fairseq->-r requirements.txt (line 2)) (2.21)\n",
      "Requirement already satisfied: certifi>=2017.4.17 in /opt/conda/lib/python3.10/site-packages (from requests->huggingface-hub->-r requirements.txt (line 3)) (2022.12.7)\n",
      "Requirement already satisfied: charset-normalizer<4,>=2 in /opt/conda/lib/python3.10/site-packages (from requests->huggingface-hub->-r requirements.txt (line 3)) (2.1.1)\n",
      "Requirement already satisfied: urllib3<1.27,>=1.21.1 in /opt/conda/lib/python3.10/site-packages (from requests->huggingface-hub->-r requirements.txt (line 3)) (1.26.15)\n",
      "Requirement already satisfied: idna<4,>=2.5 in /opt/conda/lib/python3.10/site-packages (from requests->huggingface-hub->-r requirements.txt (line 3)) (3.4)\n",
      "Requirement already satisfied: scipy>=1.3.2 in /opt/conda/lib/python3.10/site-packages (from scikit-learn->audiolm-pytorch==1.1.4->-r requirements.txt (line 1)) (1.9.3)\n",
      "Requirement already satisfied: threadpoolctl>=2.0.0 in /opt/conda/lib/python3.10/site-packages (from scikit-learn->audiolm-pytorch==1.1.4->-r requirements.txt (line 1)) (3.1.0)\n",
      "Installing collected packages: sox\n",
      "Successfully installed sox-1.4.1\n",
      "Note: you may need to restart the kernel to use updated packages.\n"
     ]
    }
   ],
   "source": [
    "%pip install -r requirements.txt"
   ]
  },
  {
   "cell_type": "code",
   "execution_count": 2,
   "metadata": {
    "collapsed": true,
    "jupyter": {
     "outputs_hidden": true
    },
    "tags": []
   },
   "outputs": [
    {
     "name": "stdout",
     "output_type": "stream",
     "text": [
      "Looking in indexes: https://pypi.org/simple, https://download.pytorch.org/whl/cu113\n",
      "Requirement already satisfied: torch==1.12.1+cu113 in /root/.local/lib/python3.10/site-packages (1.12.1+cu113)\n",
      "Requirement already satisfied: torchvision==0.13.1+cu113 in /root/.local/lib/python3.10/site-packages (0.13.1+cu113)\n",
      "Requirement already satisfied: torchaudio==0.12.1 in /root/.local/lib/python3.10/site-packages (0.12.1+cu113)\n",
      "Requirement already satisfied: typing-extensions in /opt/conda/lib/python3.10/site-packages (from torch==1.12.1+cu113) (4.5.0)\n",
      "Requirement already satisfied: requests in /opt/conda/lib/python3.10/site-packages (from torchvision==0.13.1+cu113) (2.28.2)\n",
      "Requirement already satisfied: pillow!=8.3.*,>=5.3.0 in /opt/conda/lib/python3.10/site-packages (from torchvision==0.13.1+cu113) (9.5.0)\n",
      "Requirement already satisfied: numpy in /root/.local/lib/python3.10/site-packages (from torchvision==0.13.1+cu113) (1.22.0)\n",
      "Requirement already satisfied: urllib3<1.27,>=1.21.1 in /opt/conda/lib/python3.10/site-packages (from requests->torchvision==0.13.1+cu113) (1.26.15)\n",
      "Requirement already satisfied: charset-normalizer<4,>=2 in /opt/conda/lib/python3.10/site-packages (from requests->torchvision==0.13.1+cu113) (2.1.1)\n",
      "Requirement already satisfied: idna<4,>=2.5 in /opt/conda/lib/python3.10/site-packages (from requests->torchvision==0.13.1+cu113) (3.4)\n",
      "Requirement already satisfied: certifi>=2017.4.17 in /opt/conda/lib/python3.10/site-packages (from requests->torchvision==0.13.1+cu113) (2022.12.7)\n",
      "Note: you may need to restart the kernel to use updated packages.\n"
     ]
    }
   ],
   "source": [
    "pip install torch==1.12.1+cu113 torchvision==0.13.1+cu113 torchaudio==0.12.1 --extra-index-url https://download.pytorch.org/whl/cu113"
   ]
  },
  {
   "cell_type": "code",
   "execution_count": 3,
   "metadata": {
    "collapsed": true,
    "tags": []
   },
   "outputs": [
    {
     "name": "stdout",
     "output_type": "stream",
     "text": [
      "Requirement already satisfied: safetensors in /root/.local/lib/python3.10/site-packages (0.4.0)\n",
      "Note: you may need to restart the kernel to use updated packages.\n"
     ]
    }
   ],
   "source": [
    "pip install --upgrade safetensors"
   ]
  },
  {
   "cell_type": "markdown",
   "metadata": {},
   "source": [
    "## Load models"
   ]
  },
  {
   "cell_type": "code",
   "execution_count": 1,
   "metadata": {
    "tags": []
   },
   "outputs": [],
   "source": [
    "from einops import pack, unpack"
   ]
  },
  {
   "cell_type": "code",
   "execution_count": 2,
   "metadata": {
    "tags": []
   },
   "outputs": [],
   "source": [
    "device = 'cuda'  # 'cuda', 'cpu', 'cuda:0', 0, -1, torch.device('cuda')\n",
    "\n",
    "import numpy as np\n",
    "import torch\n",
    "import torchaudio\n",
    "from encodec import EncodecModel\n",
    "from encodec.utils import convert_audio\n",
    "\n",
    "from transformers import HubertModel\n",
    "\n",
    "from bark_hubert_quantizer.customtokenizer import CustomTokenizer\n"
   ]
  },
  {
   "cell_type": "code",
   "execution_count": 3,
   "metadata": {},
   "outputs": [
    {
     "name": "stdout",
     "output_type": "stream",
     "text": [
      "Loading HuBERT...\n",
      "Loading Quantizer...\n",
      "1024 768 10000 1\n",
      "Loading Encodec...\n",
      "Downloaded and loaded models!\n"
     ]
    }
   ],
   "source": [
    "\n",
    "print('Loading HuBERT...')\n",
    "hubert_model = HubertModel.from_pretrained(\"team-lucid/hubert-base-korean\")\n",
    "hubert_model.to(device)\n",
    "\n",
    "print('Loading Quantizer...')\n",
    "quant_model = CustomTokenizer.load_from_checkpoint(\"Literature/new_model_epoch_8.pth\", device) # 여기 수정해야됨.\n",
    "\n",
    "print('Loading Encodec...')\n",
    "encodec_model = EncodecModel.encodec_model_24khz()\n",
    "encodec_model.set_target_bandwidth(6.0)\n",
    "encodec_model.to(device)\n",
    "\n",
    "print('Downloaded and loaded models!')"
   ]
  },
  {
   "cell_type": "code",
   "execution_count": 4,
   "metadata": {
    "tags": []
   },
   "outputs": [],
   "source": [
    "torch.cuda.empty_cache()"
   ]
  },
  {
   "cell_type": "markdown",
   "metadata": {},
   "source": [
    "## Load wav and create speaker history prompt"
   ]
  },
  {
   "cell_type": "code",
   "execution_count": 161,
   "metadata": {
    "jupyter": {
     "outputs_hidden": false
    },
    "tags": []
   },
   "outputs": [
    {
     "name": "stdout",
     "output_type": "stream",
     "text": [
      "sampling rate : 48000\n"
     ]
    }
   ],
   "source": [
    "wav_file = 'wav_data/여_아동_차분한/여_아동_차분한_중립.wav'  # Put the path of the speaker you want to use here. # 여기 수정\n",
    "out_file = 'npz_data/여_아동_차분한/여_아동_차분한_중립'  # Put the path to save the cloned speaker to here. # 여기 수정\n",
    "\n",
    "wav, sr = torchaudio.load(wav_file)\n",
    "print(f'sampling rate : {sr}')\n",
    "\n",
    "wav_hubert = wav.to(device)\n",
    "\n",
    "if wav_hubert.shape[0] == 2:  # Stereo to mono if needed\n",
    "    wav_hubert = wav_hubert.mean(0, keepdim=True)"
   ]
  },
  {
   "cell_type": "code",
   "execution_count": 162,
   "metadata": {
    "tags": []
   },
   "outputs": [],
   "source": [
    "# 우리가 사용할 데이터는 44.1kHz이므로 이를 16kHz로 resampling 해줘야함\n",
    "resampler = torchaudio.transforms.Resample(\n",
    "    orig_freq= sr,\n",
    "    new_freq= 16000).to(device)\n",
    "\n",
    "if sr > 16000:\n",
    "    wav_hubert = resampler(wav_hubert)"
   ]
  },
  {
   "cell_type": "code",
   "execution_count": 163,
   "metadata": {
    "jupyter": {
     "outputs_hidden": false
    },
    "tags": []
   },
   "outputs": [
    {
     "name": "stdout",
     "output_type": "stream",
     "text": [
      "Extracting semantics...\n",
      "Tokenizing semantics...\n",
      "Creating coarse and fine prompts...\n"
     ]
    }
   ],
   "source": [
    "print('Extracting semantics...') # input wav는 16kHz\n",
    "\n",
    "semantic_vectors = hubert_model.forward(wav_hubert).last_hidden_state\n",
    "\n",
    "embed, packed_shape = pack(semantic_vectors, '* d')\n",
    "semantic_vectors = torch.from_numpy(embed.cpu().detach().numpy()).to(device)\n",
    "\n",
    "print('Tokenizing semantics...')\n",
    "semantic_tokens = quant_model.get_token(semantic_vectors)\n",
    "\n",
    "print('Creating coarse and fine prompts...')\n",
    "wav = convert_audio(wav, sr, encodec_model.sample_rate, 1).unsqueeze(0)\n",
    "\n",
    "wav = wav.to(device)\n",
    "\n"
   ]
  },
  {
   "cell_type": "code",
   "execution_count": 164,
   "metadata": {
    "jupyter": {
     "outputs_hidden": false
    },
    "tags": []
   },
   "outputs": [
    {
     "name": "stdout",
     "output_type": "stream",
     "text": [
      "Done!\n"
     ]
    }
   ],
   "source": [
    "with torch.no_grad():\n",
    "    encoded_frames = encodec_model.encode(wav)\n",
    "codes = torch.cat([encoded[0] for encoded in encoded_frames], dim=-1).squeeze() # 얘가 뭔 리스트 안에 튜플 안에 있어서 그거 꺼내주고 [1, 8, 1702]를 [8, 1702]로 unsqueeze\n",
    "\n",
    "codes = codes.cpu()\n",
    "semantic_tokens = semantic_tokens.cpu()\n",
    "\n",
    "np.savez(out_file,\n",
    "         semantic_prompt=semantic_tokens.squeeze(),\n",
    "         fine_prompt=codes,\n",
    "         coarse_prompt=codes[:2, :]\n",
    "         )\n",
    "\n",
    "print('Done!')"
   ]
  },
  {
   "cell_type": "code",
   "execution_count": null,
   "metadata": {},
   "outputs": [],
   "source": []
  }
 ],
 "metadata": {
  "kernelspec": {
   "display_name": "Pytorch2.0, Tensorflow2.11 (kaggle 23.05/Python 3.10 Conda, CUDA 11.3) on Backend.AI",
   "language": "python",
   "name": "python3"
  },
  "language_info": {
   "codemirror_mode": {
    "name": "ipython",
    "version": 3
   },
   "file_extension": ".py",
   "mimetype": "text/x-python",
   "name": "python",
   "nbconvert_exporter": "python",
   "pygments_lexer": "ipython3",
   "version": "3.10.10 | packaged by conda-forge | (main, Mar 24 2023, 20:08:06) [GCC 11.3.0]"
  },
  "vscode": {
   "interpreter": {
    "hash": "d4d1e4263499bec80672ea0156c357c1ee493ec2b1c70f0acce89fc37c4a6abe"
   }
  }
 },
 "nbformat": 4,
 "nbformat_minor": 4
}
